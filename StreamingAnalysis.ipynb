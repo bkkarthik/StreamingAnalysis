{
 "cells": [
  {
   "cell_type": "code",
   "execution_count": 1,
   "metadata": {},
   "outputs": [],
   "source": [
    "import matplotlib as mlt\n",
    "import numpy as np\n",
    "import pandas as pd\n",
    "import seaborn as sns\n",
    "import matplotlib.pyplot as plt\n",
    "from scipy import stats\n",
    "import datetime\n",
    "sns.set()"
   ]
  },
  {
   "cell_type": "code",
   "execution_count": 2,
   "metadata": {},
   "outputs": [
    {
     "data": {
      "text/html": [
       "<div>\n",
       "<style scoped>\n",
       "    .dataframe tbody tr th:only-of-type {\n",
       "        vertical-align: middle;\n",
       "    }\n",
       "\n",
       "    .dataframe tbody tr th {\n",
       "        vertical-align: top;\n",
       "    }\n",
       "\n",
       "    .dataframe thead th {\n",
       "        text-align: right;\n",
       "    }\n",
       "</style>\n",
       "<table border=\"1\" class=\"dataframe\">\n",
       "  <thead>\n",
       "    <tr style=\"text-align: right;\">\n",
       "      <th></th>\n",
       "      <th>Title</th>\n",
       "      <th>Date</th>\n",
       "    </tr>\n",
       "  </thead>\n",
       "  <tbody>\n",
       "    <tr>\n",
       "      <th>0</th>\n",
       "      <td>Stranger Things: Stranger Things 3: Chapter Ei...</td>\n",
       "      <td>7/13/2019</td>\n",
       "    </tr>\n",
       "    <tr>\n",
       "      <th>1</th>\n",
       "      <td>Aziz Ansari: RIGHT NOW</td>\n",
       "      <td>7/12/2019</td>\n",
       "    </tr>\n",
       "  </tbody>\n",
       "</table>\n",
       "</div>"
      ],
      "text/plain": [
       "                                               Title       Date\n",
       "0  Stranger Things: Stranger Things 3: Chapter Ei...  7/13/2019\n",
       "1                             Aziz Ansari: RIGHT NOW  7/12/2019"
      ]
     },
     "execution_count": 2,
     "metadata": {},
     "output_type": "execute_result"
    }
   ],
   "source": [
    "sumanth_df = pd.read_csv('./Downloads/Netflix Data/Sumanth_Netflix.csv', encoding='cp1252')\n",
    "sumanth_df.head(2)"
   ]
  },
  {
   "cell_type": "code",
   "execution_count": 3,
   "metadata": {},
   "outputs": [],
   "source": [
    "#Converted into datetime format\n",
    "\n",
    "sumanth_df['Date'] = pd.to_datetime(sumanth_df['Date'])"
   ]
  },
  {
   "cell_type": "markdown",
   "metadata": {},
   "source": [
    "### Extracted possible columns"
   ]
  },
  {
   "cell_type": "code",
   "execution_count": 4,
   "metadata": {},
   "outputs": [
    {
     "data": {
      "text/html": [
       "<div>\n",
       "<style scoped>\n",
       "    .dataframe tbody tr th:only-of-type {\n",
       "        vertical-align: middle;\n",
       "    }\n",
       "\n",
       "    .dataframe tbody tr th {\n",
       "        vertical-align: top;\n",
       "    }\n",
       "\n",
       "    .dataframe thead th {\n",
       "        text-align: right;\n",
       "    }\n",
       "</style>\n",
       "<table border=\"1\" class=\"dataframe\">\n",
       "  <thead>\n",
       "    <tr style=\"text-align: right;\">\n",
       "      <th></th>\n",
       "      <th>Title</th>\n",
       "      <th>Date</th>\n",
       "      <th>Day</th>\n",
       "      <th>Month</th>\n",
       "      <th>Week Day</th>\n",
       "      <th>Year</th>\n",
       "    </tr>\n",
       "  </thead>\n",
       "  <tbody>\n",
       "    <tr>\n",
       "      <th>0</th>\n",
       "      <td>Stranger Things: Stranger Things 3: Chapter Ei...</td>\n",
       "      <td>2019-07-13</td>\n",
       "      <td>13</td>\n",
       "      <td>July</td>\n",
       "      <td>Saturday</td>\n",
       "      <td>2019</td>\n",
       "    </tr>\n",
       "    <tr>\n",
       "      <th>1</th>\n",
       "      <td>Aziz Ansari: RIGHT NOW</td>\n",
       "      <td>2019-07-12</td>\n",
       "      <td>12</td>\n",
       "      <td>July</td>\n",
       "      <td>Friday</td>\n",
       "      <td>2019</td>\n",
       "    </tr>\n",
       "  </tbody>\n",
       "</table>\n",
       "</div>"
      ],
      "text/plain": [
       "                                               Title       Date  Day Month  \\\n",
       "0  Stranger Things: Stranger Things 3: Chapter Ei... 2019-07-13   13  July   \n",
       "1                             Aziz Ansari: RIGHT NOW 2019-07-12   12  July   \n",
       "\n",
       "   Week Day  Year  \n",
       "0  Saturday  2019  \n",
       "1    Friday  2019  "
      ]
     },
     "execution_count": 4,
     "metadata": {},
     "output_type": "execute_result"
    }
   ],
   "source": [
    "sumanth_df['Day'] = sumanth_df['Date'].dt.day\n",
    "sumanth_df['Month'] = sumanth_df['Date'].dt.month_name()\n",
    "sumanth_df['Week Day'] = sumanth_df['Date'].dt.day_name()\n",
    "sumanth_df['Year'] = sumanth_df['Date'].dt.year\n",
    "\n",
    "\n",
    "sumanth_df.head(2)"
   ]
  },
  {
   "cell_type": "code",
   "execution_count": 5,
   "metadata": {},
   "outputs": [],
   "source": [
    "details = sumanth_df.Title.str.split(\":\", expand = True, n=2)"
   ]
  },
  {
   "cell_type": "code",
   "execution_count": 6,
   "metadata": {},
   "outputs": [
    {
     "data": {
      "text/html": [
       "<div>\n",
       "<style scoped>\n",
       "    .dataframe tbody tr th:only-of-type {\n",
       "        vertical-align: middle;\n",
       "    }\n",
       "\n",
       "    .dataframe tbody tr th {\n",
       "        vertical-align: top;\n",
       "    }\n",
       "\n",
       "    .dataframe thead th {\n",
       "        text-align: right;\n",
       "    }\n",
       "</style>\n",
       "<table border=\"1\" class=\"dataframe\">\n",
       "  <thead>\n",
       "    <tr style=\"text-align: right;\">\n",
       "      <th></th>\n",
       "      <th>Title</th>\n",
       "      <th>Date</th>\n",
       "      <th>Day</th>\n",
       "      <th>Month</th>\n",
       "      <th>Week Day</th>\n",
       "      <th>Year</th>\n",
       "      <th>Name</th>\n",
       "      <th>Season</th>\n",
       "      <th>Episode</th>\n",
       "    </tr>\n",
       "  </thead>\n",
       "  <tbody>\n",
       "    <tr>\n",
       "      <th>0</th>\n",
       "      <td>Stranger Things: Stranger Things 3: Chapter Ei...</td>\n",
       "      <td>2019-07-13</td>\n",
       "      <td>13</td>\n",
       "      <td>July</td>\n",
       "      <td>Saturday</td>\n",
       "      <td>2019</td>\n",
       "      <td>Stranger Things</td>\n",
       "      <td>Stranger Things 3</td>\n",
       "      <td>Chapter Eight: The Battle of Starcourt</td>\n",
       "    </tr>\n",
       "    <tr>\n",
       "      <th>1</th>\n",
       "      <td>Aziz Ansari: RIGHT NOW</td>\n",
       "      <td>2019-07-12</td>\n",
       "      <td>12</td>\n",
       "      <td>July</td>\n",
       "      <td>Friday</td>\n",
       "      <td>2019</td>\n",
       "      <td>Aziz Ansari</td>\n",
       "      <td>RIGHT NOW</td>\n",
       "      <td>None</td>\n",
       "    </tr>\n",
       "  </tbody>\n",
       "</table>\n",
       "</div>"
      ],
      "text/plain": [
       "                                               Title       Date  Day Month  \\\n",
       "0  Stranger Things: Stranger Things 3: Chapter Ei... 2019-07-13   13  July   \n",
       "1                             Aziz Ansari: RIGHT NOW 2019-07-12   12  July   \n",
       "\n",
       "   Week Day  Year             Name              Season  \\\n",
       "0  Saturday  2019  Stranger Things   Stranger Things 3   \n",
       "1    Friday  2019      Aziz Ansari           RIGHT NOW   \n",
       "\n",
       "                                   Episode  \n",
       "0   Chapter Eight: The Battle of Starcourt  \n",
       "1                                     None  "
      ]
     },
     "execution_count": 6,
     "metadata": {},
     "output_type": "execute_result"
    }
   ],
   "source": [
    "sumanth_df['Name'] = details[0]\n",
    "sumanth_df['Season'] = details[1]\n",
    "sumanth_df['Episode'] = details[2]\n",
    "\n",
    "sumanth_df.head(2)"
   ]
  },
  {
   "cell_type": "code",
   "execution_count": 7,
   "metadata": {},
   "outputs": [],
   "source": [
    "sumanth_df['show_type'] = sumanth_df.apply(lambda x:'Movie' if pd.isnull(x['Season']) else 'TV Show' , axis=1)"
   ]
  },
  {
   "cell_type": "code",
   "execution_count": 8,
   "metadata": {
    "scrolled": true
   },
   "outputs": [
    {
     "data": {
      "text/html": [
       "<div>\n",
       "<style scoped>\n",
       "    .dataframe tbody tr th:only-of-type {\n",
       "        vertical-align: middle;\n",
       "    }\n",
       "\n",
       "    .dataframe tbody tr th {\n",
       "        vertical-align: top;\n",
       "    }\n",
       "\n",
       "    .dataframe thead th {\n",
       "        text-align: right;\n",
       "    }\n",
       "</style>\n",
       "<table border=\"1\" class=\"dataframe\">\n",
       "  <thead>\n",
       "    <tr style=\"text-align: right;\">\n",
       "      <th></th>\n",
       "      <th>Title</th>\n",
       "      <th>Date</th>\n",
       "      <th>Day</th>\n",
       "      <th>Month</th>\n",
       "      <th>Week Day</th>\n",
       "      <th>Year</th>\n",
       "      <th>Name</th>\n",
       "      <th>Season</th>\n",
       "      <th>Episode</th>\n",
       "      <th>show_type</th>\n",
       "    </tr>\n",
       "  </thead>\n",
       "  <tbody>\n",
       "    <tr>\n",
       "      <th>0</th>\n",
       "      <td>Stranger Things: Stranger Things 3: Chapter Ei...</td>\n",
       "      <td>2019-07-13</td>\n",
       "      <td>13</td>\n",
       "      <td>July</td>\n",
       "      <td>Saturday</td>\n",
       "      <td>2019</td>\n",
       "      <td>Stranger Things</td>\n",
       "      <td>Stranger Things 3</td>\n",
       "      <td>Chapter Eight: The Battle of Starcourt</td>\n",
       "      <td>TV Show</td>\n",
       "    </tr>\n",
       "    <tr>\n",
       "      <th>1</th>\n",
       "      <td>Aziz Ansari: RIGHT NOW</td>\n",
       "      <td>2019-07-12</td>\n",
       "      <td>12</td>\n",
       "      <td>July</td>\n",
       "      <td>Friday</td>\n",
       "      <td>2019</td>\n",
       "      <td>Aziz Ansari</td>\n",
       "      <td>RIGHT NOW</td>\n",
       "      <td>None</td>\n",
       "      <td>TV Show</td>\n",
       "    </tr>\n",
       "  </tbody>\n",
       "</table>\n",
       "</div>"
      ],
      "text/plain": [
       "                                               Title       Date  Day Month  \\\n",
       "0  Stranger Things: Stranger Things 3: Chapter Ei... 2019-07-13   13  July   \n",
       "1                             Aziz Ansari: RIGHT NOW 2019-07-12   12  July   \n",
       "\n",
       "   Week Day  Year             Name              Season  \\\n",
       "0  Saturday  2019  Stranger Things   Stranger Things 3   \n",
       "1    Friday  2019      Aziz Ansari           RIGHT NOW   \n",
       "\n",
       "                                   Episode show_type  \n",
       "0   Chapter Eight: The Battle of Starcourt   TV Show  \n",
       "1                                     None   TV Show  "
      ]
     },
     "execution_count": 8,
     "metadata": {},
     "output_type": "execute_result"
    }
   ],
   "source": [
    "sumanth_df.head(2)"
   ]
  },
  {
   "cell_type": "code",
   "execution_count": 11,
   "metadata": {},
   "outputs": [],
   "source": [
    "sumanth_df.to_csv('./Downloads/Netflix Data/SumanthDetails.csv', index = False)"
   ]
  },
  {
   "cell_type": "markdown",
   "metadata": {},
   "source": [
    "### Viewing distribution per day of the months"
   ]
  },
  {
   "cell_type": "code",
   "execution_count": 12,
   "metadata": {},
   "outputs": [
    {
     "name": "stderr",
     "output_type": "stream",
     "text": [
      "C:\\Users\\KARTHIK\\anaconda3\\lib\\site-packages\\seaborn\\distributions.py:2551: FutureWarning: `distplot` is a deprecated function and will be removed in a future version. Please adapt your code to use either `displot` (a figure-level function with similar flexibility) or `histplot` (an axes-level function for histograms).\n",
      "  warnings.warn(msg, FutureWarning)\n"
     ]
    },
    {
     "data": {
      "image/png": "[encoded data removed]",
      "text/plain": [
       "<Figure size 1080x720 with 1 Axes>"
      ]
     },
     "metadata": {},
     "output_type": "display_data"
    }
   ],
   "source": [
    "plt.figure(figsize=(15,10))\n",
    "plt.subplot(2,1,1)\n",
    "plt.title(\"Sumanth's monthly streaming distribution\")\n",
    "ax = sns.distplot(sumanth_df['Day'],bins=31,color=\"green\",hist=True)"
   ]
  },
  {
   "cell_type": "markdown",
   "metadata": {},
   "source": [
    "### Distribution per week"
   ]
  },
  {
   "cell_type": "code",
   "execution_count": 13,
   "metadata": {},
   "outputs": [
    {
     "data": {
      "text/plain": [
       "Text(0, 0.5, 'Frequency')"
      ]
     },
     "execution_count": 13,
     "metadata": {},
     "output_type": "execute_result"
    },
    {
     "data": {
      "image/png": "[encoded data removed]",
      "text/plain": [
       "<Figure size 2160x1440 with 1 Axes>"
      ]
     },
     "metadata": {},
     "output_type": "display_data"
    }
   ],
   "source": [
    "plt.figure(figsize=(30,20))\n",
    "plt.subplot(4,2,2)\n",
    "ax = sns.barplot(x=sumanth_df[\"Week Day\"].value_counts().index, y=sumanth_df[\"Week Day\"].value_counts(), palette=\"husl\",alpha=0.9)\n",
    "plt.title(\"Days\")\n",
    "plt.xlabel(\"Day of the Week\")\n",
    "plt.ylabel(\"Frequency\")"
   ]
  },
  {
   "cell_type": "markdown",
   "metadata": {},
   "source": [
    "### Distribution per month, year wise"
   ]
  },
  {
   "cell_type": "code",
   "execution_count": 14,
   "metadata": {},
   "outputs": [
    {
     "data": {
      "text/plain": [
       "Text(0.5, 1.0, 'Sumanth most spented months')"
      ]
     },
     "execution_count": 14,
     "metadata": {},
     "output_type": "execute_result"
    },
    {
     "data": {
      "image/png": "[encoded data removed]",
      "text/plain": [
       "<Figure size 1440x1800 with 1 Axes>"
      ]
     },
     "metadata": {},
     "output_type": "display_data"
    }
   ],
   "source": [
    "sns.set_style('ticks')\n",
    "yearwise = sumanth_df.groupby('Month')['Year'].value_counts().sort_values(ascending=True).reset_index(name='Frequency')\n",
    "\n",
    "plt.figure(figsize=(20,25))\n",
    "plt.subplot(4,1,1)\n",
    "ax = sns.barplot(x=yearwise['Month'], y=yearwise['Frequency'], hue=yearwise['Year'], palette='colorblind',alpha=0.8)\n",
    "plt.title('Sumanth most spented months')"
   ]
  },
  {
   "cell_type": "markdown",
   "metadata": {},
   "source": [
    "### Content preference"
   ]
  },
  {
   "cell_type": "code",
   "execution_count": 15,
   "metadata": {},
   "outputs": [
    {
     "data": {
      "text/plain": [
       "Text(0.5, 1.0, 'Shows vs Movies')"
      ]
     },
     "execution_count": 15,
     "metadata": {},
     "output_type": "execute_result"
    },
    {
     "data": {
      "image/png": "[encoded data removed]",
      "text/plain": [
       "<Figure size 1800x1440 with 1 Axes>"
      ]
     },
     "metadata": {},
     "output_type": "display_data"
    }
   ],
   "source": [
    "sns.set_style('darkgrid')\n",
    "\n",
    "Freq = sumanth_df.groupby('show_type')['Week Day'].value_counts().sort_values(ascending=True).reset_index(name='Count')\n",
    "\n",
    "plt.figure(figsize=(25,20))\n",
    "plt.subplot(4,2,2)\n",
    "ax = sns.barplot(x=Freq['Week Day'], y=Freq['Count'], hue=Freq['show_type'], palette='pastel',alpha=0.8)\n",
    "plt.title('Shows vs Movies')"
   ]
  },
  {
   "cell_type": "code",
   "execution_count": null,
   "metadata": {},
   "outputs": [],
   "source": []
  }
 ],
 "metadata": {
  "kernelspec": {
   "display_name": "Python 3",
   "language": "python",
   "name": "python3"
  },
  "language_info": {
   "codemirror_mode": {
    "name": "ipython",
    "version": 3
   },
   "file_extension": ".py",
   "mimetype": "text/x-python",
   "name": "python",
   "nbconvert_exporter": "python",
   "pygments_lexer": "ipython3",
   "version": "3.8.5"
  }
 },
 "nbformat": 4,
 "nbformat_minor": 4
}
